{
  "nbformat": 4,
  "nbformat_minor": 0,
  "metadata": {
    "colab": {
      "name": "inspiration-generator.ipynb",
      "version": "0.3.2",
      "provenance": [],
      "collapsed_sections": [],
      "toc_visible": true,
      "include_colab_link": true
    },
    "kernelspec": {
      "name": "python3",
      "display_name": "Python 3"
    },
    "accelerator": "GPU"
  },
  "cells": [
    {
      "cell_type": "markdown",
      "metadata": {
        "id": "view-in-github",
        "colab_type": "text"
      },
      "source": [
        "<a href=\"https://colab.research.google.com/github/vinpala/Deep_Inspirations/blob/master/inspiration_generator.ipynb\" target=\"_parent\"><img src=\"https://colab.research.google.com/assets/colab-badge.svg\" alt=\"Open In Colab\"/></a>"
      ]
    },
    {
      "metadata": {
        "id": "feneVTVlPc78",
        "colab_type": "text"
      },
      "cell_type": "markdown",
      "source": [
        "# Inspirational quotes Generator"
      ]
    },
    {
      "metadata": {
        "id": "eiQnjmrMTSF-",
        "colab_type": "code",
        "colab": {
          "base_uri": "https://localhost:8080/",
          "height": 1062
        },
        "outputId": "c85f7194-e2fe-4a0d-c050-0f97f9cbcb0e"
      },
      "cell_type": "code",
      "source": [
        "!pip install fastai==1.0.34"
      ],
      "execution_count": 2,
      "outputs": [
        {
          "output_type": "stream",
          "text": [
            "Collecting fastai==1.0.34\n",
            "\u001b[?25l  Downloading https://files.pythonhosted.org/packages/78/7c/67ada54ff19f296af81c3bba65ac519c0564b176d867c3903b5ad605a233/fastai-1.0.34-py3-none-any.whl (139kB)\n",
            "\u001b[K    100% |████████████████████████████████| 143kB 12.6MB/s \n",
            "\u001b[?25hCollecting torchvision-nightly (from fastai==1.0.34)\n",
            "\u001b[?25l  Downloading https://files.pythonhosted.org/packages/ca/bd/d0f9a33c81c79710eb7ee428b66869b49a8be16c7f1e446c211a7fbfb7be/torchvision_nightly-0.2.1-py2.py3-none-any.whl (54kB)\n",
            "\u001b[K    100% |████████████████████████████████| 61kB 23.7MB/s \n",
            "\u001b[?25hRequirement already satisfied: pyyaml in /usr/local/lib/python3.6/dist-packages (from fastai==1.0.34) (3.13)\n",
            "Requirement already satisfied: Pillow in /usr/local/lib/python3.6/dist-packages (from fastai==1.0.34) (4.1.1)\n",
            "Requirement already satisfied: cymem==2.0.2 in /usr/local/lib/python3.6/dist-packages (from fastai==1.0.34) (2.0.2)\n",
            "Requirement already satisfied: scipy in /usr/local/lib/python3.6/dist-packages (from fastai==1.0.34) (1.1.0)\n",
            "Requirement already satisfied: matplotlib in /usr/local/lib/python3.6/dist-packages (from fastai==1.0.34) (3.0.3)\n",
            "Requirement already satisfied: dataclasses; python_version < \"3.7\" in /usr/local/lib/python3.6/dist-packages (from fastai==1.0.34) (0.6)\n",
            "Requirement already satisfied: fastprogress>=0.1.18 in /usr/local/lib/python3.6/dist-packages (from fastai==1.0.34) (0.1.20)\n",
            "Collecting thinc==6.12.0 (from fastai==1.0.34)\n",
            "\u001b[?25l  Downloading https://files.pythonhosted.org/packages/1f/18/e320bfc57c20df39cc5ffa1915c7b5402a9038f290ddd85b5b72689bd57a/thinc-6.12.0-cp36-cp36m-manylinux1_x86_64.whl (1.9MB)\n",
            "\u001b[K    100% |████████████████████████████████| 1.9MB 14.7MB/s \n",
            "\u001b[?25hRequirement already satisfied: bottleneck in /usr/local/lib/python3.6/dist-packages (from fastai==1.0.34) (1.2.1)\n",
            "Requirement already satisfied: numpy>=1.12 in /usr/local/lib/python3.6/dist-packages (from fastai==1.0.34) (1.14.6)\n",
            "Collecting spacy==2.0.16 (from fastai==1.0.34)\n",
            "\u001b[?25l  Downloading https://files.pythonhosted.org/packages/ed/39/288640f591b29aac6996c97ddfafc3262ae0be7513e06bc560921b112d7c/spacy-2.0.16-cp36-cp36m-manylinux1_x86_64.whl (23.3MB)\n",
            "\u001b[K    100% |████████████████████████████████| 23.3MB 1.3MB/s \n",
            "\u001b[?25hRequirement already satisfied: regex in /usr/local/lib/python3.6/dist-packages (from fastai==1.0.34) (2018.1.10)\n",
            "Requirement already satisfied: typing in /usr/local/lib/python3.6/dist-packages (from fastai==1.0.34) (3.6.6)\n",
            "Requirement already satisfied: pandas in /usr/local/lib/python3.6/dist-packages (from fastai==1.0.34) (0.22.0)\n",
            "Requirement already satisfied: numexpr in /usr/local/lib/python3.6/dist-packages (from fastai==1.0.34) (2.6.9)\n",
            "Requirement already satisfied: requests in /usr/local/lib/python3.6/dist-packages (from fastai==1.0.34) (2.18.4)\n",
            "Requirement already satisfied: tqdm in /usr/local/lib/python3.6/dist-packages (from torchvision-nightly->fastai==1.0.34) (4.28.1)\n",
            "Requirement already satisfied: six in /usr/local/lib/python3.6/dist-packages (from torchvision-nightly->fastai==1.0.34) (1.11.0)\n",
            "Requirement already satisfied: olefile in /usr/local/lib/python3.6/dist-packages (from Pillow->fastai==1.0.34) (0.46)\n",
            "Requirement already satisfied: pyparsing!=2.0.4,!=2.1.2,!=2.1.6,>=2.0.1 in /usr/local/lib/python3.6/dist-packages (from matplotlib->fastai==1.0.34) (2.3.1)\n",
            "Requirement already satisfied: cycler>=0.10 in /usr/local/lib/python3.6/dist-packages (from matplotlib->fastai==1.0.34) (0.10.0)\n",
            "Requirement already satisfied: kiwisolver>=1.0.1 in /usr/local/lib/python3.6/dist-packages (from matplotlib->fastai==1.0.34) (1.0.1)\n",
            "Requirement already satisfied: python-dateutil>=2.1 in /usr/local/lib/python3.6/dist-packages (from matplotlib->fastai==1.0.34) (2.5.3)\n",
            "Requirement already satisfied: plac<1.0.0,>=0.9.6 in /usr/local/lib/python3.6/dist-packages (from thinc==6.12.0->fastai==1.0.34) (0.9.6)\n",
            "Requirement already satisfied: dill<0.3.0,>=0.2.7 in /usr/local/lib/python3.6/dist-packages (from thinc==6.12.0->fastai==1.0.34) (0.2.9)\n",
            "Requirement already satisfied: preshed<3.0.0,>=2.0.1 in /usr/local/lib/python3.6/dist-packages (from thinc==6.12.0->fastai==1.0.34) (2.0.1)\n",
            "Requirement already satisfied: msgpack-numpy<0.4.4.0 in /usr/local/lib/python3.6/dist-packages (from thinc==6.12.0->fastai==1.0.34) (0.4.3.2)\n",
            "Requirement already satisfied: msgpack<1.0.0,>=0.5.6 in /usr/local/lib/python3.6/dist-packages (from thinc==6.12.0->fastai==1.0.34) (0.5.6)\n",
            "Requirement already satisfied: murmurhash<1.1.0,>=0.28.0 in /usr/local/lib/python3.6/dist-packages (from thinc==6.12.0->fastai==1.0.34) (1.0.2)\n",
            "Requirement already satisfied: wrapt<1.11.0,>=1.10.0 in /usr/local/lib/python3.6/dist-packages (from thinc==6.12.0->fastai==1.0.34) (1.10.11)\n",
            "Requirement already satisfied: cytoolz<0.10,>=0.9.0 in /usr/local/lib/python3.6/dist-packages (from thinc==6.12.0->fastai==1.0.34) (0.9.0.1)\n",
            "Requirement already satisfied: ujson>=1.35 in /usr/local/lib/python3.6/dist-packages (from spacy==2.0.16->fastai==1.0.34) (1.35)\n",
            "Requirement already satisfied: pytz>=2011k in /usr/local/lib/python3.6/dist-packages (from pandas->fastai==1.0.34) (2018.9)\n",
            "Requirement already satisfied: certifi>=2017.4.17 in /usr/local/lib/python3.6/dist-packages (from requests->fastai==1.0.34) (2019.3.9)\n",
            "Requirement already satisfied: urllib3<1.23,>=1.21.1 in /usr/local/lib/python3.6/dist-packages (from requests->fastai==1.0.34) (1.22)\n",
            "Requirement already satisfied: chardet<3.1.0,>=3.0.2 in /usr/local/lib/python3.6/dist-packages (from requests->fastai==1.0.34) (3.0.4)\n",
            "Requirement already satisfied: idna<2.7,>=2.5 in /usr/local/lib/python3.6/dist-packages (from requests->fastai==1.0.34) (2.6)\n",
            "Requirement already satisfied: setuptools in /usr/local/lib/python3.6/dist-packages (from kiwisolver>=1.0.1->matplotlib->fastai==1.0.34) (40.8.0)\n",
            "Requirement already satisfied: toolz>=0.8.0 in /usr/local/lib/python3.6/dist-packages (from cytoolz<0.10,>=0.9.0->thinc==6.12.0->fastai==1.0.34) (0.9.0)\n",
            "\u001b[31mspacy 2.0.16 has requirement numpy>=1.15.0, but you'll have numpy 1.14.6 which is incompatible.\u001b[0m\n",
            "Installing collected packages: torchvision-nightly, thinc, spacy, fastai\n",
            "  Found existing installation: thinc 6.12.1\n",
            "    Uninstalling thinc-6.12.1:\n",
            "      Successfully uninstalled thinc-6.12.1\n",
            "  Found existing installation: spacy 2.0.18\n",
            "    Uninstalling spacy-2.0.18:\n",
            "      Successfully uninstalled spacy-2.0.18\n",
            "  Found existing installation: fastai 1.0.49\n",
            "    Uninstalling fastai-1.0.49:\n",
            "      Successfully uninstalled fastai-1.0.49\n",
            "Successfully installed fastai-1.0.34 spacy-2.0.16 thinc-6.12.0 torchvision-nightly-0.2.1\n"
          ],
          "name": "stdout"
        }
      ]
    },
    {
      "metadata": {
        "id": "EfqcKKRwPc8D",
        "colab_type": "code",
        "colab": {}
      },
      "cell_type": "code",
      "source": [
        "from fastai import *\n",
        "from fastai.text import *"
      ],
      "execution_count": 0,
      "outputs": []
    },
    {
      "metadata": {
        "id": "dZRucA46Ppsw",
        "colab_type": "code",
        "colab": {}
      },
      "cell_type": "code",
      "source": [
        "import fastai"
      ],
      "execution_count": 0,
      "outputs": []
    },
    {
      "metadata": {
        "id": "YY05l-WLPyg6",
        "colab_type": "code",
        "colab": {
          "base_uri": "https://localhost:8080/",
          "height": 34
        },
        "outputId": "d6ee4f45-8ae8-410e-ae7b-32bb80adfb0f"
      },
      "cell_type": "code",
      "source": [
        "fastai.__version__ #<= '1.0.34'"
      ],
      "execution_count": 5,
      "outputs": [
        {
          "output_type": "execute_result",
          "data": {
            "text/plain": [
              "'1.0.34'"
            ]
          },
          "metadata": {
            "tags": []
          },
          "execution_count": 5
        }
      ]
    },
    {
      "metadata": {
        "id": "5joe3aQiPc8H",
        "colab_type": "text"
      },
      "cell_type": "markdown",
      "source": [
        "## Preparing the language model"
      ]
    },
    {
      "metadata": {
        "id": "9YYdsBvUPc8J",
        "colab_type": "code",
        "outputId": "6f1f8789-eb88-486a-9648-b9cb7b2a6160",
        "colab": {
          "base_uri": "https://localhost:8080/",
          "height": 195
        }
      },
      "cell_type": "code",
      "source": [
        "df = pd.read_csv('Quotes.csv', sep=';')\n",
        "df.head()"
      ],
      "execution_count": 6,
      "outputs": [
        {
          "output_type": "execute_result",
          "data": {
            "text/html": [
              "<div>\n",
              "<style scoped>\n",
              "    .dataframe tbody tr th:only-of-type {\n",
              "        vertical-align: middle;\n",
              "    }\n",
              "\n",
              "    .dataframe tbody tr th {\n",
              "        vertical-align: top;\n",
              "    }\n",
              "\n",
              "    .dataframe thead th {\n",
              "        text-align: right;\n",
              "    }\n",
              "</style>\n",
              "<table border=\"1\" class=\"dataframe\">\n",
              "  <thead>\n",
              "    <tr style=\"text-align: right;\">\n",
              "      <th></th>\n",
              "      <th>QUOTE</th>\n",
              "      <th>AUTHOR</th>\n",
              "      <th>GENRE</th>\n",
              "    </tr>\n",
              "  </thead>\n",
              "  <tbody>\n",
              "    <tr>\n",
              "      <th>0</th>\n",
              "      <td>Age is an issue of mind over matter. If you do...</td>\n",
              "      <td>Mark Twain</td>\n",
              "      <td>age</td>\n",
              "    </tr>\n",
              "    <tr>\n",
              "      <th>1</th>\n",
              "      <td>Anyone who stops learning is old, whether at t...</td>\n",
              "      <td>Henry Ford</td>\n",
              "      <td>age</td>\n",
              "    </tr>\n",
              "    <tr>\n",
              "      <th>2</th>\n",
              "      <td>Wrinkles should merely indicate where smiles h...</td>\n",
              "      <td>Mark Twain</td>\n",
              "      <td>age</td>\n",
              "    </tr>\n",
              "    <tr>\n",
              "      <th>3</th>\n",
              "      <td>True terror is to wake up one morning and disc...</td>\n",
              "      <td>Kurt Vonnegut</td>\n",
              "      <td>age</td>\n",
              "    </tr>\n",
              "    <tr>\n",
              "      <th>4</th>\n",
              "      <td>A diplomat is a man who always remembers a wom...</td>\n",
              "      <td>Robert Frost</td>\n",
              "      <td>age</td>\n",
              "    </tr>\n",
              "  </tbody>\n",
              "</table>\n",
              "</div>"
            ],
            "text/plain": [
              "                                               QUOTE         AUTHOR GENRE\n",
              "0  Age is an issue of mind over matter. If you do...     Mark Twain   age\n",
              "1  Anyone who stops learning is old, whether at t...     Henry Ford   age\n",
              "2  Wrinkles should merely indicate where smiles h...     Mark Twain   age\n",
              "3  True terror is to wake up one morning and disc...  Kurt Vonnegut   age\n",
              "4  A diplomat is a man who always remembers a wom...   Robert Frost   age"
            ]
          },
          "metadata": {
            "tags": []
          },
          "execution_count": 6
        }
      ]
    },
    {
      "metadata": {
        "id": "V8Sw8blFPc8O",
        "colab_type": "text"
      },
      "cell_type": "markdown",
      "source": [
        "The training data contains 1 tweet per row and has no labels."
      ]
    },
    {
      "metadata": {
        "id": "HdpYevAjPc8P",
        "colab_type": "code",
        "outputId": "b9174d57-9e0e-4d97-a3fc-5b7d03dc43a5",
        "colab": {
          "base_uri": "https://localhost:8080/",
          "height": 54
        }
      },
      "cell_type": "code",
      "source": [
        "# let's look at a single quote\n",
        "df['QUOTE'][1]"
      ],
      "execution_count": 7,
      "outputs": [
        {
          "output_type": "execute_result",
          "data": {
            "text/plain": [
              "'Anyone who stops learning is old, whether at twenty or eighty. Anyone who keeps learning stays young. The greatest thing in life is to keep your mind young.'"
            ]
          },
          "metadata": {
            "tags": []
          },
          "execution_count": 7
        }
      ]
    },
    {
      "metadata": {
        "id": "JlrWLadWPc8W",
        "colab_type": "code",
        "outputId": "58b7c66b-f39d-4e9c-e6a4-b11e0ecdd584",
        "colab": {
          "base_uri": "https://localhost:8080/",
          "height": 34
        }
      },
      "cell_type": "code",
      "source": [
        "# number of quotes\n",
        "len(df)"
      ],
      "execution_count": 8,
      "outputs": [
        {
          "output_type": "execute_result",
          "data": {
            "text/plain": [
              "75966"
            ]
          },
          "metadata": {
            "tags": []
          },
          "execution_count": 8
        }
      ]
    },
    {
      "metadata": {
        "id": "xAd66cMJPc8Z",
        "colab_type": "code",
        "colab": {}
      },
      "cell_type": "code",
      "source": [
        "# batch size\n",
        "bs = 48"
      ],
      "execution_count": 0,
      "outputs": []
    },
    {
      "metadata": {
        "id": "kZWK9FXIPc8c",
        "colab_type": "code",
        "colab": {}
      },
      "cell_type": "code",
      "source": [
        "# create langugage model using our data \n",
        "data_lm = (TextList.from_df(df,Path('/storage/inspiration-generator/'), col=['QUOTE']) \n",
        "          #We randomly split and keep 10% (~609 tweets) for validation\n",
        "           .random_split_by_pct(0.1)\n",
        "          #We want to do a language model so we label accordingly\n",
        "           .label_for_lm()\n",
        "          .databunch(bs=bs))\n",
        "data_lm.save('tmp_lm')"
      ],
      "execution_count": 0,
      "outputs": []
    },
    {
      "metadata": {
        "id": "Zh00vo1rPc8f",
        "colab_type": "text"
      },
      "cell_type": "markdown",
      "source": [
        "## Tokenization"
      ]
    },
    {
      "metadata": {
        "id": "uQFnkGUPPc8g",
        "colab_type": "text"
      },
      "cell_type": "markdown",
      "source": [
        "The first step of processing we make tweets go through is to split the raw sentences into words, or more exactly tokens. The easiest way to do this would be to split the string on spaces, but we can be smarter:\n",
        "\n",
        "- we need to take care of punctuation\n",
        "- some words are contractions of two different words, like isn't or don't\n",
        "- we may need to clean some parts of our texts, if there's HTML code for instance\n",
        "\n",
        "To see what the tokenizer had done behind the scenes, let's have a look at a few quotes in a batch."
      ]
    },
    {
      "metadata": {
        "id": "wxvwChcqPc8h",
        "colab_type": "code",
        "colab": {}
      },
      "cell_type": "code",
      "source": [
        "data_lm = TextLMDataBunch.load(Path('/storage/inspiration-generator/'), 'tmp_lm', bs=bs)"
      ],
      "execution_count": 0,
      "outputs": []
    },
    {
      "metadata": {
        "id": "1ZBiocy1Pc8k",
        "colab_type": "code",
        "outputId": "6d135511-46d2-42bb-bd0e-bd91e765cd7c",
        "colab": {
          "base_uri": "https://localhost:8080/",
          "height": 574
        }
      },
      "cell_type": "code",
      "source": [
        "data_lm.show_batch(rows=10)"
      ],
      "execution_count": 12,
      "outputs": [
        {
          "output_type": "display_data",
          "data": {
            "text/html": [
              "<table>  <col width='5%'>  <col width='95%'>  <tr>\n",
              "    <th>idx</th>\n",
              "    <th>text</th>\n",
              "  </tr>\n",
              "  <tr>\n",
              "    <th>0</th>\n",
              "    <th>xxbos xxmaj family life was wonderful . xxmaj the streets were bleak . xxmaj the playgrounds were bleak . xxmaj but home was always warm . xxmaj my mother and father had a great relationship . i always felt ' safe ' there . xxbos xxmaj the secret source of humor is not joy but sorrow there is no humor in xxmaj heaven . xxbos xxmaj good humor is n't</th>\n",
              "  </tr>\n",
              "  <tr>\n",
              "    <th>1</th>\n",
              "    <th>try to approach him on the level of his moral integrity he starts to talk business . xxbos xxmaj any fool knows that bravado is always a cover - up for insecurity . xxmaj that 's the truth . xxmaj and on that note , i 'll say goodnight . xxmaj god love you . xxbos xxmaj strange questions are the more interesting ones . xxmaj children by and large</th>\n",
              "  </tr>\n",
              "  <tr>\n",
              "    <th>2</th>\n",
              "    <th>, xxmaj champagne costs too much , xxmaj vodka puts my mouth in gear . i hope this refrain , xxmaj will help me explain , xxmaj as a matter of fact , i like beer . xxbos xxmaj the employee is regarded by the employer merely in the light of his value as an operative . xxmaj his productive capacity alone is taken into account . xxbos xxmaj the</th>\n",
              "  </tr>\n",
              "  <tr>\n",
              "    <th>3</th>\n",
              "    <th>'s also an affirmation of faith in their country . xxbos xxmaj if philosophy is practice , a demand to know the manner in which its history is to be studied is xxunk : a theoretical attitude toward it becomes real only in the living appropriation of its contents from the texts . xxbos i 'm a competitive person and i love the challenge of mastering new things . xxbos</th>\n",
              "  </tr>\n",
              "  <tr>\n",
              "    <th>4</th>\n",
              "    <th>. xxbos xxmaj courage ought to have eyes as well as arms . xxbos xxmaj let me smile with the wise , and feed with the rich . xxbos xxmaj it was either xxmaj voltaire or xxmaj charlie xxmaj xxunk who said , ' xxmaj we are born alone . xxmaj we live alone . xxmaj we die alone . xxmaj and anything in between that can give us the</th>\n",
              "  </tr>\n",
              "  <tr>\n",
              "    <th>5</th>\n",
              "    <th>a law 's broken , society is guilty rather than the xxunk . xxmaj it is time to restore the xxmaj american precept that each individual is accountable for his actions . xxbos xxmaj enjoy your sweat because hard work does n't guarantee success , but without it you do n't have a chance . xxbos i ran for president in order to be able to try to change xxmaj</th>\n",
              "  </tr>\n",
              "  <tr>\n",
              "    <th>6</th>\n",
              "    <th>french word like xxunk when there 's a good xxmaj english phrase for it - cold war . xxbos xxmaj to run away from trouble is a form of cowardice and , while it is true that the suicide xxunk death , he does it not for some noble object but to escape some ill . xxbos xxmaj we 're one of the forces that causes actors to fasten seat</th>\n",
              "  </tr>\n",
              "  <tr>\n",
              "    <th>7</th>\n",
              "    <th>, shoot guns , have adventures . xxbos xxmaj with reasonable men , i will reason with humane men i will plead but to tyrants i will give no quarter , nor waste arguments where they will certainly be lost . xxbos xxmaj and i remember leaving my place in xxup l.a. and - my father is a big fight fan - and i said , ' xxmaj dad ,</th>\n",
              "  </tr>\n",
              "  <tr>\n",
              "    <th>8</th>\n",
              "    <th>. xxbos i 'm very at ease , and i like it . i never thought i would be such a family - oriented guy i did n't think that was part of my makeup . xxmaj but somebody said that as you get older you become the person you always should have been , and i feel that 's happening to me . i 'm rather surprised at who</th>\n",
              "  </tr>\n",
              "  <tr>\n",
              "    <th>9</th>\n",
              "    <th>these worlds became alive until he discovered its true and living name . xxmaj the name was the breath of life and , sooner or later , he invariably found it . xxbos i 'm 36 and if i met a woman of my own age and married her , i 'd also be marrying her former life , her past . xxmaj it might be xxup ok for some</th>\n",
              "  </tr>\n",
              "</table>\n"
            ],
            "text/plain": [
              "<IPython.core.display.HTML object>"
            ]
          },
          "metadata": {
            "tags": []
          }
        }
      ]
    },
    {
      "metadata": {
        "id": "_TFqfsLwPc8o",
        "colab_type": "text"
      },
      "cell_type": "markdown",
      "source": [
        "The texts are truncated at 100 tokens for more readability. We can see that it did more than just split on space and punctuation symbols: \n",
        "- the \"'s\" are grouped together in one token\n",
        "- the contractions are separated like his: \"did\", \"n't\"\n",
        "- content has been cleaned for any HTML symbol and lower cased\n",
        "- there are several special tokens (all those that begin by xx), to replace unknown tokens (see below) or to introduce different text fields (here we only have one)."
      ]
    },
    {
      "metadata": {
        "id": "QN0DQOgVPc8p",
        "colab_type": "text"
      },
      "cell_type": "markdown",
      "source": [
        "## Numericalization"
      ]
    },
    {
      "metadata": {
        "id": "HMP2XjyGPc8q",
        "colab_type": "text"
      },
      "cell_type": "markdown",
      "source": [
        "Once we have extracted tokens from our texts, we convert to integers by creating a list of all the words used. We only keep the ones that appear at list twice with a maximum vocabulary size of 60,000 (by default) and replace the ones that don't make the cut by the unknown token `UNK`.\n",
        "\n",
        "The correspondance from ids tokens is stored in the `vocab` attribute of our datasets, in a dictionary called `itos` (for int to string)."
      ]
    },
    {
      "metadata": {
        "id": "d8OTwPIXPc8r",
        "colab_type": "code",
        "outputId": "80d3395a-963a-4b50-b8ad-d4916d6ba9f7",
        "colab": {
          "base_uri": "https://localhost:8080/",
          "height": 269
        }
      },
      "cell_type": "code",
      "source": [
        "# view the most common dictionary terms\n",
        "data_lm.vocab.itos[:15]"
      ],
      "execution_count": 13,
      "outputs": [
        {
          "output_type": "execute_result",
          "data": {
            "text/plain": [
              "['xxunk',\n",
              " 'xxpad',\n",
              " 'xxbos',\n",
              " 'xxfld',\n",
              " 'xxmaj',\n",
              " 'xxup',\n",
              " 'xxrep',\n",
              " 'xxwrep',\n",
              " '.',\n",
              " ',',\n",
              " 'the',\n",
              " 'to',\n",
              " 'and',\n",
              " 'i',\n",
              " 'of']"
            ]
          },
          "metadata": {
            "tags": []
          },
          "execution_count": 13
        }
      ]
    },
    {
      "metadata": {
        "id": "0mjUGlZPPc8u",
        "colab_type": "text"
      },
      "cell_type": "markdown",
      "source": [
        "## Train the language model"
      ]
    },
    {
      "metadata": {
        "id": "YMk580sLPc8v",
        "colab_type": "text"
      },
      "cell_type": "markdown",
      "source": [
        "We're not going to train a model that generates language from scratch. \n",
        "\n",
        "Instead, we'll use a model pretrained on a bigger dataset (a cleaned subset of wikipeia called [wikitext-103](https://einstein.ai/research/blog/the-wikitext-long-term-dependency-language-modeling-dataset)). That model has been trained to guess what the next word, its input being all the previous words. It has a recurrent structure and a hidden state that is updated each time it sees a new word. This hidden state thus contains information about the sentence up to that point.\n",
        "\n",
        "We are going to use that 'knowledge' of the English language to build our inspirational quote generator, but first, we need to fine-tune the pretrained model with quotes. We'll need to adjust a little bit the parameters of our model. \n",
        "\n",
        "Note that language models can use a lot of GPU, so you may need to decrease batchsize here."
      ]
    },
    {
      "metadata": {
        "id": "Yt82llBQPc8x",
        "colab_type": "code",
        "colab": {}
      },
      "cell_type": "code",
      "source": [
        "# drop_mult is a parameter that controls the % of drop-out used\n",
        "learn = language_model_learner(data_lm, pretrained_model=URLs.WT103, drop_mult=0.30)"
      ],
      "execution_count": 0,
      "outputs": []
    },
    {
      "metadata": {
        "id": "PS_jqtWgPc82",
        "colab_type": "code",
        "outputId": "77cf43ad-4845-4af2-fd92-7574ef33928c",
        "colab": {
          "base_uri": "https://localhost:8080/",
          "height": 34
        }
      },
      "cell_type": "code",
      "source": [
        "# use learning rate finder to identify a good learning rate to use\n",
        "learn.lr_find()"
      ],
      "execution_count": 15,
      "outputs": [
        {
          "output_type": "display_data",
          "data": {
            "text/html": [
              ""
            ],
            "text/plain": [
              "<IPython.core.display.HTML object>"
            ]
          },
          "metadata": {
            "tags": []
          }
        },
        {
          "output_type": "stream",
          "text": [
            "LR Finder is complete, type {learner_name}.recorder.plot() to see the graph.\n"
          ],
          "name": "stdout"
        }
      ]
    },
    {
      "metadata": {
        "id": "IB4qDUPdPc87",
        "colab_type": "code",
        "outputId": "26c5d232-48b2-4bea-d615-e7a7daf03232",
        "colab": {
          "base_uri": "https://localhost:8080/",
          "height": 361
        }
      },
      "cell_type": "code",
      "source": [
        "learn.recorder.plot(skip_end=15)"
      ],
      "execution_count": 16,
      "outputs": [
        {
          "output_type": "display_data",
          "data": {
            "image/png": "[encoded data removed]",
            "text/plain": [
              "<Figure size 576x396 with 1 Axes>"
            ]
          },
          "metadata": {
            "tags": []
          }
        }
      ]
    },
    {
      "metadata": {
        "id": "TDPWsxFxPc9D",
        "colab_type": "code",
        "outputId": "bb001cdf-f2cd-4f1c-a74b-e16d795917c5",
        "colab": {
          "base_uri": "https://localhost:8080/",
          "height": 366
        }
      },
      "cell_type": "code",
      "source": [
        "# as a rule of thumb, review the plot above and choose the learning rate with the steepest slope to fit the model\n",
        "learn.fit_one_cycle(10, 1e-2, moms=(0.8,0.7))"
      ],
      "execution_count": 17,
      "outputs": [
        {
          "output_type": "display_data",
          "data": {
            "text/html": [
              "Total time: 41:38 <p><table border=\"1\" class=\"dataframe\">\n",
              "  <thead>\n",
              "    <tr style=\"text-align: left;\">\n",
              "      <th>epoch</th>\n",
              "      <th>train_loss</th>\n",
              "      <th>valid_loss</th>\n",
              "      <th>accuracy</th>\n",
              "    </tr>\n",
              "  </thead>\n",
              "  <tbody>\n",
              "    <tr>\n",
              "      <td>1</td>\n",
              "      <td>4.210771</td>\n",
              "      <td>4.003152</td>\n",
              "      <td>0.275771</td>\n",
              "    </tr>\n",
              "    <tr>\n",
              "      <td>2</td>\n",
              "      <td>4.031643</td>\n",
              "      <td>3.876151</td>\n",
              "      <td>0.288318</td>\n",
              "    </tr>\n",
              "    <tr>\n",
              "      <td>3</td>\n",
              "      <td>3.959247</td>\n",
              "      <td>3.844692</td>\n",
              "      <td>0.290186</td>\n",
              "    </tr>\n",
              "    <tr>\n",
              "      <td>4</td>\n",
              "      <td>3.870712</td>\n",
              "      <td>3.811392</td>\n",
              "      <td>0.293367</td>\n",
              "    </tr>\n",
              "    <tr>\n",
              "      <td>5</td>\n",
              "      <td>3.795509</td>\n",
              "      <td>3.776777</td>\n",
              "      <td>0.296902</td>\n",
              "    </tr>\n",
              "    <tr>\n",
              "      <td>6</td>\n",
              "      <td>3.719762</td>\n",
              "      <td>3.750515</td>\n",
              "      <td>0.298656</td>\n",
              "    </tr>\n",
              "    <tr>\n",
              "      <td>7</td>\n",
              "      <td>3.647826</td>\n",
              "      <td>3.725406</td>\n",
              "      <td>0.302077</td>\n",
              "    </tr>\n",
              "    <tr>\n",
              "      <td>8</td>\n",
              "      <td>3.582844</td>\n",
              "      <td>3.708097</td>\n",
              "      <td>0.303490</td>\n",
              "    </tr>\n",
              "    <tr>\n",
              "      <td>9</td>\n",
              "      <td>3.544996</td>\n",
              "      <td>3.697882</td>\n",
              "      <td>0.305185</td>\n",
              "    </tr>\n",
              "    <tr>\n",
              "      <td>10</td>\n",
              "      <td>3.508585</td>\n",
              "      <td>3.696165</td>\n",
              "      <td>0.305087</td>\n",
              "    </tr>\n",
              "  </tbody>\n",
              "</table>"
            ],
            "text/plain": [
              "<IPython.core.display.HTML object>"
            ]
          },
          "metadata": {
            "tags": []
          }
        }
      ]
    },
    {
      "metadata": {
        "id": "_pNBVYOcPc9P",
        "colab_type": "code",
        "colab": {}
      },
      "cell_type": "code",
      "source": [
        "learn.save('quote_head')"
      ],
      "execution_count": 0,
      "outputs": []
    },
    {
      "metadata": {
        "id": "47ThLUQ8Pc9T",
        "colab_type": "code",
        "colab": {}
      },
      "cell_type": "code",
      "source": [
        "learn.load('quote_head');"
      ],
      "execution_count": 0,
      "outputs": []
    },
    {
      "metadata": {
        "id": "O6oJAtkAPc9Y",
        "colab_type": "text"
      },
      "cell_type": "markdown",
      "source": [
        "To complete the fine-tuning, we can then unfeeze and launch a new training to fine-tune all layers of the model."
      ]
    },
    {
      "metadata": {
        "id": "gHX-2SBQPc9Y",
        "colab_type": "code",
        "outputId": "edb72c0f-ed7e-4e4f-9cbf-d3a841348097",
        "colab": {
          "base_uri": "https://localhost:8080/",
          "height": 218
        }
      },
      "cell_type": "code",
      "source": [
        "learn.fit_one_cycle(5, 1e-3, moms=(0.8,0.7))"
      ],
      "execution_count": 20,
      "outputs": [
        {
          "output_type": "display_data",
          "data": {
            "text/html": [
              "Total time: 20:46 <p><table border=\"1\" class=\"dataframe\">\n",
              "  <thead>\n",
              "    <tr style=\"text-align: left;\">\n",
              "      <th>epoch</th>\n",
              "      <th>train_loss</th>\n",
              "      <th>valid_loss</th>\n",
              "      <th>accuracy</th>\n",
              "    </tr>\n",
              "  </thead>\n",
              "  <tbody>\n",
              "    <tr>\n",
              "      <td>1</td>\n",
              "      <td>3.512639</td>\n",
              "      <td>3.696598</td>\n",
              "      <td>0.305460</td>\n",
              "    </tr>\n",
              "    <tr>\n",
              "      <td>2</td>\n",
              "      <td>3.531201</td>\n",
              "      <td>3.694123</td>\n",
              "      <td>0.305626</td>\n",
              "    </tr>\n",
              "    <tr>\n",
              "      <td>3</td>\n",
              "      <td>3.512056</td>\n",
              "      <td>3.690317</td>\n",
              "      <td>0.305709</td>\n",
              "    </tr>\n",
              "    <tr>\n",
              "      <td>4</td>\n",
              "      <td>3.489574</td>\n",
              "      <td>3.690456</td>\n",
              "      <td>0.305853</td>\n",
              "    </tr>\n",
              "    <tr>\n",
              "      <td>5</td>\n",
              "      <td>3.488740</td>\n",
              "      <td>3.689104</td>\n",
              "      <td>0.306075</td>\n",
              "    </tr>\n",
              "  </tbody>\n",
              "</table>"
            ],
            "text/plain": [
              "<IPython.core.display.HTML object>"
            ]
          },
          "metadata": {
            "tags": []
          }
        }
      ]
    },
    {
      "metadata": {
        "id": "vhgimSXjPc9f",
        "colab_type": "code",
        "colab": {}
      },
      "cell_type": "code",
      "source": [
        "learn.save('quote_fine_tuned')"
      ],
      "execution_count": 0,
      "outputs": []
    },
    {
      "metadata": {
        "id": "j6jByR0kPc9i",
        "colab_type": "code",
        "outputId": "30aa1173-96ce-41f8-baa6-126da2b94ddf",
        "colab": {
          "base_uri": "https://localhost:8080/",
          "height": 2406
        }
      },
      "cell_type": "code",
      "source": [
        "learn.load('quote_fine_tuned')"
      ],
      "execution_count": 22,
      "outputs": [
        {
          "output_type": "execute_result",
          "data": {
            "text/plain": [
              "LanguageLearner(data=TextLMDataBunch;\n",
              "\n",
              "Train: LabelList\n",
              "y: LMLabel (68370 items)\n",
              "[Category 0, Category 0, Category 0, Category 0, Category 0]...\n",
              "Path: /storage/inspiration-generator\n",
              "x: LMTextList (68370 items)\n",
              "[Text xxbos xxmaj age is an issue of mind over matter . xxmaj if you do n't mind , it does n't matter ., Text xxbos xxmaj anyone who stops learning is old , whether at twenty or eighty . xxmaj anyone who keeps learning stays young . xxmaj the greatest thing in life is to keep your mind young ., Text xxbos xxmaj wrinkles should merely indicate where smiles have been ., Text xxbos xxmaj true terror is to wake up one morning and discover that your high school class is running the country ., Text xxbos a diplomat is a man who always remembers a woman 's birthday but never remembers her age .]...\n",
              "Path: /storage/inspiration-generator;\n",
              "\n",
              "Valid: LabelList\n",
              "y: LMLabel (7596 items)\n",
              "[Category 0, Category 0, Category 0, Category 0, Category 0]...\n",
              "Path: /storage/inspiration-generator\n",
              "x: LMTextList (7596 items)\n",
              "[Text xxbos xxmaj death is the wish of some , the relief of many , and the end of all ., Text xxbos xxmaj you know it 's only 50 miles from xxmaj grand xxmaj river to xxmaj xxunk , but it took me 67 years to travel that distance ., Text xxbos xxmaj at the age when xxmaj bengali youth almost inevitably writes poetry , i was listening to xxmaj european classical music ., Text xxbos i have been , and will go on , fighting that xxunk , dirty , rotten business with all the power at my command ., Text xxbos xxmaj the president of xxmaj general xxmaj motors was in a foul humor .]...\n",
              "Path: /storage/inspiration-generator;\n",
              "\n",
              "Test: None, model=SequentialRNN(\n",
              "  (0): RNNCore(\n",
              "    (encoder): Embedding(16571, 400, padding_idx=1)\n",
              "    (encoder_dp): EmbeddingDropout(\n",
              "      (emb): Embedding(16571, 400, padding_idx=1)\n",
              "    )\n",
              "    (rnns): ModuleList(\n",
              "      (0): WeightDropout(\n",
              "        (module): LSTM(400, 1150)\n",
              "      )\n",
              "      (1): WeightDropout(\n",
              "        (module): LSTM(1150, 1150)\n",
              "      )\n",
              "      (2): WeightDropout(\n",
              "        (module): LSTM(1150, 400)\n",
              "      )\n",
              "    )\n",
              "    (input_dp): RNNDropout()\n",
              "    (hidden_dps): ModuleList(\n",
              "      (0): RNNDropout()\n",
              "      (1): RNNDropout()\n",
              "      (2): RNNDropout()\n",
              "    )\n",
              "  )\n",
              "  (1): LinearDecoder(\n",
              "    (decoder): Linear(in_features=400, out_features=16571, bias=True)\n",
              "    (output_dp): RNNDropout()\n",
              "  )\n",
              "), opt_func=functools.partial(<class 'torch.optim.adam.Adam'>, betas=(0.9, 0.99)), loss_func=<fastai.layers.FlattenedLoss object at 0x7f312439f278>, metrics=[<function accuracy at 0x7f3128df4730>], true_wd=True, bn_wd=True, wd=0.01, train_bn=True, path=PosixPath('/storage/inspiration-generator'), model_dir='models', callback_fns=[<class 'fastai.basic_train.Recorder'>], callbacks=[RNNTrainer(learn=LanguageLearner(data=TextLMDataBunch;\n",
              "\n",
              "Train: LabelList\n",
              "y: LMLabel (68370 items)\n",
              "[Category 0, Category 0, Category 0, Category 0, Category 0]...\n",
              "Path: /storage/inspiration-generator\n",
              "x: LMTextList (68370 items)\n",
              "[Text xxbos xxmaj age is an issue of mind over matter . xxmaj if you do n't mind , it does n't matter ., Text xxbos xxmaj anyone who stops learning is old , whether at twenty or eighty . xxmaj anyone who keeps learning stays young . xxmaj the greatest thing in life is to keep your mind young ., Text xxbos xxmaj wrinkles should merely indicate where smiles have been ., Text xxbos xxmaj true terror is to wake up one morning and discover that your high school class is running the country ., Text xxbos a diplomat is a man who always remembers a woman 's birthday but never remembers her age .]...\n",
              "Path: /storage/inspiration-generator;\n",
              "\n",
              "Valid: LabelList\n",
              "y: LMLabel (7596 items)\n",
              "[Category 0, Category 0, Category 0, Category 0, Category 0]...\n",
              "Path: /storage/inspiration-generator\n",
              "x: LMTextList (7596 items)\n",
              "[Text xxbos xxmaj death is the wish of some , the relief of many , and the end of all ., Text xxbos xxmaj you know it 's only 50 miles from xxmaj grand xxmaj river to xxmaj xxunk , but it took me 67 years to travel that distance ., Text xxbos xxmaj at the age when xxmaj bengali youth almost inevitably writes poetry , i was listening to xxmaj european classical music ., Text xxbos i have been , and will go on , fighting that xxunk , dirty , rotten business with all the power at my command ., Text xxbos xxmaj the president of xxmaj general xxmaj motors was in a foul humor .]...\n",
              "Path: /storage/inspiration-generator;\n",
              "\n",
              "Test: None, model=SequentialRNN(\n",
              "  (0): RNNCore(\n",
              "    (encoder): Embedding(16571, 400, padding_idx=1)\n",
              "    (encoder_dp): EmbeddingDropout(\n",
              "      (emb): Embedding(16571, 400, padding_idx=1)\n",
              "    )\n",
              "    (rnns): ModuleList(\n",
              "      (0): WeightDropout(\n",
              "        (module): LSTM(400, 1150)\n",
              "      )\n",
              "      (1): WeightDropout(\n",
              "        (module): LSTM(1150, 1150)\n",
              "      )\n",
              "      (2): WeightDropout(\n",
              "        (module): LSTM(1150, 400)\n",
              "      )\n",
              "    )\n",
              "    (input_dp): RNNDropout()\n",
              "    (hidden_dps): ModuleList(\n",
              "      (0): RNNDropout()\n",
              "      (1): RNNDropout()\n",
              "      (2): RNNDropout()\n",
              "    )\n",
              "  )\n",
              "  (1): LinearDecoder(\n",
              "    (decoder): Linear(in_features=400, out_features=16571, bias=True)\n",
              "    (output_dp): RNNDropout()\n",
              "  )\n",
              "), opt_func=functools.partial(<class 'torch.optim.adam.Adam'>, betas=(0.9, 0.99)), loss_func=<fastai.layers.FlattenedLoss object at 0x7f312439f278>, metrics=[<function accuracy at 0x7f3128df4730>], true_wd=True, bn_wd=True, wd=0.01, train_bn=True, path=PosixPath('/storage/inspiration-generator'), model_dir='models', callback_fns=[<class 'fastai.basic_train.Recorder'>], callbacks=[...], layer_groups=[Sequential(\n",
              "  (0): WeightDropout(\n",
              "    (module): LSTM(400, 1150)\n",
              "  )\n",
              "  (1): RNNDropout()\n",
              "), Sequential(\n",
              "  (0): WeightDropout(\n",
              "    (module): LSTM(1150, 1150)\n",
              "  )\n",
              "  (1): RNNDropout()\n",
              "), Sequential(\n",
              "  (0): WeightDropout(\n",
              "    (module): LSTM(1150, 400)\n",
              "  )\n",
              "  (1): RNNDropout()\n",
              "), Sequential(\n",
              "  (0): Embedding(16571, 400, padding_idx=1)\n",
              "  (1): EmbeddingDropout(\n",
              "    (emb): Embedding(16571, 400, padding_idx=1)\n",
              "  )\n",
              "  (2): LinearDecoder(\n",
              "    (decoder): Linear(in_features=400, out_features=16571, bias=True)\n",
              "    (output_dp): RNNDropout()\n",
              "  )\n",
              ")]), bptt=70, alpha=2.0, beta=1.0, adjust=False)], layer_groups=[Sequential(\n",
              "  (0): WeightDropout(\n",
              "    (module): LSTM(400, 1150)\n",
              "  )\n",
              "  (1): RNNDropout()\n",
              "), Sequential(\n",
              "  (0): WeightDropout(\n",
              "    (module): LSTM(1150, 1150)\n",
              "  )\n",
              "  (1): RNNDropout()\n",
              "), Sequential(\n",
              "  (0): WeightDropout(\n",
              "    (module): LSTM(1150, 400)\n",
              "  )\n",
              "  (1): RNNDropout()\n",
              "), Sequential(\n",
              "  (0): Embedding(16571, 400, padding_idx=1)\n",
              "  (1): EmbeddingDropout(\n",
              "    (emb): Embedding(16571, 400, padding_idx=1)\n",
              "  )\n",
              "  (2): LinearDecoder(\n",
              "    (decoder): Linear(in_features=400, out_features=16571, bias=True)\n",
              "    (output_dp): RNNDropout()\n",
              "  )\n",
              ")])"
            ]
          },
          "metadata": {
            "tags": []
          },
          "execution_count": 22
        }
      ]
    },
    {
      "metadata": {
        "id": "J1sSfvSAPc9n",
        "colab_type": "text"
      },
      "cell_type": "markdown",
      "source": [
        "##Quote Generation Testing"
      ]
    },
    {
      "metadata": {
        "id": "Nxd_JdrOPc9o",
        "colab_type": "code",
        "colab": {}
      },
      "cell_type": "code",
      "source": [
        "# adjust below parameters to test inference (generated quotes)\n",
        "\n",
        "TEXT = \"Love is \"\n",
        "N_WORDS = 20\n",
        "N_SENTENCES = 2"
      ],
      "execution_count": 0,
      "outputs": []
    },
    {
      "metadata": {
        "id": "t4dXki0ZPc9t",
        "colab_type": "code",
        "outputId": "11e52da0-f8cb-4c71-9542-6a7768d4bd95",
        "colab": {
          "base_uri": "https://localhost:8080/",
          "height": 50
        }
      },
      "cell_type": "code",
      "source": [
        "print(\"\\n\".join(learn.predict(TEXT, N_WORDS) for _ in range(N_SENTENCES)))"
      ],
      "execution_count": 27,
      "outputs": [
        {
          "output_type": "stream",
          "text": [
            "Love is  where she desires truth . she decided not to teach her lacks her purity , but as a friend .\n",
            "Love is  the best device of touch - of love . xxbos i think while love is there the most virtuous marriage\n"
          ],
          "name": "stdout"
        }
      ]
    },
    {
      "metadata": {
        "id": "zIz3PfXnyCjy",
        "colab_type": "code",
        "colab": {}
      },
      "cell_type": "code",
      "source": [
        ""
      ],
      "execution_count": 0,
      "outputs": []
    }
  ]
}